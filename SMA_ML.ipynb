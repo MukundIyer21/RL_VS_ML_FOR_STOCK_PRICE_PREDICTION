{
 "cells": [
  {
   "cell_type": "code",
   "execution_count": null,
   "metadata": {},
   "outputs": [
    {
     "name": "stdout",
     "output_type": "stream",
     "text": [
      "Requirement already satisfied: pmdarima in c:\\users\\mukund\\anaconda3\\envs\\gpu_env\\lib\\site-packages (2.0.4)\n",
      "Requirement already satisfied: joblib>=0.11 in c:\\users\\mukund\\appdata\\roaming\\python\\python312\\site-packages (from pmdarima) (1.4.2)\n",
      "Requirement already satisfied: Cython!=0.29.18,!=0.29.31,>=0.29 in c:\\users\\mukund\\anaconda3\\envs\\gpu_env\\lib\\site-packages (from pmdarima) (3.0.12)\n",
      "Requirement already satisfied: numpy>=1.21.2 in c:\\users\\mukund\\appdata\\roaming\\python\\python312\\site-packages (from pmdarima) (2.0.2)\n",
      "Requirement already satisfied: pandas>=0.19 in c:\\users\\mukund\\appdata\\roaming\\python\\python312\\site-packages (from pmdarima) (2.2.3)\n",
      "Requirement already satisfied: scikit-learn>=0.22 in c:\\users\\mukund\\appdata\\roaming\\python\\python312\\site-packages (from pmdarima) (1.6.1)\n",
      "Requirement already satisfied: scipy>=1.3.2 in c:\\users\\mukund\\appdata\\roaming\\python\\python312\\site-packages (from pmdarima) (1.15.1)\n",
      "Requirement already satisfied: statsmodels>=0.13.2 in c:\\users\\mukund\\anaconda3\\envs\\gpu_env\\lib\\site-packages (from pmdarima) (0.14.4)\n",
      "Requirement already satisfied: urllib3 in c:\\users\\mukund\\appdata\\roaming\\python\\python312\\site-packages (from pmdarima) (2.3.0)\n",
      "Requirement already satisfied: setuptools!=50.0.0,>=38.6.0 in c:\\users\\mukund\\appdata\\roaming\\python\\python312\\site-packages (from pmdarima) (75.8.0)\n",
      "Requirement already satisfied: packaging>=17.1 in c:\\users\\mukund\\appdata\\roaming\\python\\python312\\site-packages (from pmdarima) (24.2)\n",
      "Requirement already satisfied: python-dateutil>=2.8.2 in c:\\users\\mukund\\appdata\\roaming\\python\\python312\\site-packages (from pandas>=0.19->pmdarima) (2.9.0.post0)\n",
      "Requirement already satisfied: pytz>=2020.1 in c:\\users\\mukund\\appdata\\roaming\\python\\python312\\site-packages (from pandas>=0.19->pmdarima) (2024.2)\n",
      "Requirement already satisfied: tzdata>=2022.7 in c:\\users\\mukund\\appdata\\roaming\\python\\python312\\site-packages (from pandas>=0.19->pmdarima) (2025.1)\n",
      "Requirement already satisfied: threadpoolctl>=3.1.0 in c:\\users\\mukund\\appdata\\roaming\\python\\python312\\site-packages (from scikit-learn>=0.22->pmdarima) (3.5.0)\n",
      "Requirement already satisfied: patsy>=0.5.6 in c:\\users\\mukund\\anaconda3\\envs\\gpu_env\\lib\\site-packages (from statsmodels>=0.13.2->pmdarima) (1.0.1)\n",
      "Requirement already satisfied: six>=1.5 in c:\\users\\mukund\\appdata\\roaming\\python\\python312\\site-packages (from python-dateutil>=2.8.2->pandas>=0.19->pmdarima) (1.17.0)\n"
     ]
    },
    {
     "name": "stderr",
     "output_type": "stream",
     "text": [
      "\n",
      "[notice] A new release of pip is available: 25.0 -> 25.0.1\n",
      "[notice] To update, run: python.exe -m pip install --upgrade pip\n"
     ]
    },
    {
     "name": "stdout",
     "output_type": "stream",
     "text": [
      "Requirement already satisfied: yfinance in c:\\users\\mukund\\anaconda3\\envs\\gpu_env\\lib\\site-packages (0.2.55)\n",
      "Requirement already satisfied: pandas>=1.3.0 in c:\\users\\mukund\\appdata\\roaming\\python\\python312\\site-packages (from yfinance) (2.2.3)\n",
      "Requirement already satisfied: numpy>=1.16.5 in c:\\users\\mukund\\appdata\\roaming\\python\\python312\\site-packages (from yfinance) (2.0.2)\n",
      "Requirement already satisfied: requests>=2.31 in c:\\users\\mukund\\appdata\\roaming\\python\\python312\\site-packages (from yfinance) (2.32.3)\n",
      "Requirement already satisfied: multitasking>=0.0.7 in c:\\users\\mukund\\anaconda3\\envs\\gpu_env\\lib\\site-packages (from yfinance) (0.0.11)\n",
      "Requirement already satisfied: platformdirs>=2.0.0 in c:\\users\\mukund\\appdata\\roaming\\python\\python312\\site-packages (from yfinance) (4.3.6)\n",
      "Requirement already satisfied: pytz>=2022.5 in c:\\users\\mukund\\appdata\\roaming\\python\\python312\\site-packages (from yfinance) (2024.2)\n",
      "Requirement already satisfied: frozendict>=2.3.4 in c:\\users\\mukund\\anaconda3\\envs\\gpu_env\\lib\\site-packages (from yfinance) (2.4.6)\n",
      "Requirement already satisfied: peewee>=3.16.2 in c:\\users\\mukund\\anaconda3\\envs\\gpu_env\\lib\\site-packages (from yfinance) (3.17.9)\n",
      "Requirement already satisfied: beautifulsoup4>=4.11.1 in c:\\users\\mukund\\anaconda3\\envs\\gpu_env\\lib\\site-packages (from yfinance) (4.13.3)\n",
      "Requirement already satisfied: soupsieve>1.2 in c:\\users\\mukund\\anaconda3\\envs\\gpu_env\\lib\\site-packages (from beautifulsoup4>=4.11.1->yfinance) (2.6)\n",
      "Requirement already satisfied: typing-extensions>=4.0.0 in c:\\users\\mukund\\appdata\\roaming\\python\\python312\\site-packages (from beautifulsoup4>=4.11.1->yfinance) (4.12.2)\n",
      "Requirement already satisfied: python-dateutil>=2.8.2 in c:\\users\\mukund\\appdata\\roaming\\python\\python312\\site-packages (from pandas>=1.3.0->yfinance) (2.9.0.post0)\n",
      "Requirement already satisfied: tzdata>=2022.7 in c:\\users\\mukund\\appdata\\roaming\\python\\python312\\site-packages (from pandas>=1.3.0->yfinance) (2025.1)\n",
      "Requirement already satisfied: charset-normalizer<4,>=2 in c:\\users\\mukund\\appdata\\roaming\\python\\python312\\site-packages (from requests>=2.31->yfinance) (3.4.1)\n",
      "Requirement already satisfied: idna<4,>=2.5 in c:\\users\\mukund\\appdata\\roaming\\python\\python312\\site-packages (from requests>=2.31->yfinance) (3.10)\n",
      "Requirement already satisfied: urllib3<3,>=1.21.1 in c:\\users\\mukund\\appdata\\roaming\\python\\python312\\site-packages (from requests>=2.31->yfinance) (2.3.0)\n",
      "Requirement already satisfied: certifi>=2017.4.17 in c:\\users\\mukund\\appdata\\roaming\\python\\python312\\site-packages (from requests>=2.31->yfinance) (2024.12.14)\n",
      "Requirement already satisfied: six>=1.5 in c:\\users\\mukund\\appdata\\roaming\\python\\python312\\site-packages (from python-dateutil>=2.8.2->pandas>=1.3.0->yfinance) (1.17.0)\n"
     ]
    },
    {
     "name": "stderr",
     "output_type": "stream",
     "text": [
      "\n",
      "[notice] A new release of pip is available: 25.0 -> 25.0.1\n",
      "[notice] To update, run: python.exe -m pip install --upgrade pip\n"
     ]
    },
    {
     "name": "stdout",
     "output_type": "stream",
     "text": [
      "Collecting xgboost\n",
      "  Downloading xgboost-3.0.0-py3-none-win_amd64.whl.metadata (2.1 kB)\n",
      "Requirement already satisfied: numpy in c:\\users\\mukund\\appdata\\roaming\\python\\python312\\site-packages (from xgboost) (2.0.2)\n",
      "Requirement already satisfied: scipy in c:\\users\\mukund\\appdata\\roaming\\python\\python312\\site-packages (from xgboost) (1.15.1)\n",
      "Downloading xgboost-3.0.0-py3-none-win_amd64.whl (150.0 MB)\n",
      "   ---------------------------------------- 0.0/150.0 MB ? eta -:--:--\n",
      "   ---------------------------------------- 0.3/150.0 MB ? eta -:--:--\n",
      "   ---------------------------------------- 0.8/150.0 MB 1.5 MB/s eta 0:01:43\n",
      "   ---------------------------------------- 0.8/150.0 MB 1.5 MB/s eta 0:01:43\n",
      "   ---------------------------------------- 1.3/150.0 MB 1.5 MB/s eta 0:01:42\n",
      "   ---------------------------------------- 1.8/150.0 MB 1.7 MB/s eta 0:01:26\n",
      "    --------------------------------------- 2.9/150.0 MB 2.2 MB/s eta 0:01:07\n",
      "    --------------------------------------- 3.7/150.0 MB 2.5 MB/s eta 0:01:00\n",
      "   - -------------------------------------- 4.5/150.0 MB 2.6 MB/s eta 0:00:56\n",
      "   - -------------------------------------- 4.7/150.0 MB 2.6 MB/s eta 0:00:57\n",
      "   - -------------------------------------- 5.0/150.0 MB 2.4 MB/s eta 0:01:01\n",
      "   - -------------------------------------- 5.8/150.0 MB 2.5 MB/s eta 0:00:58\n",
      "   - -------------------------------------- 6.3/150.0 MB 2.6 MB/s eta 0:00:57\n",
      "   - -------------------------------------- 6.8/150.0 MB 2.5 MB/s eta 0:00:57\n",
      "   -- ------------------------------------- 7.6/150.0 MB 2.6 MB/s eta 0:00:55\n",
      "   -- ------------------------------------- 8.4/150.0 MB 2.7 MB/s eta 0:00:54\n",
      "   -- ------------------------------------- 9.4/150.0 MB 2.8 MB/s eta 0:00:50\n",
      "   -- ------------------------------------- 9.7/150.0 MB 2.8 MB/s eta 0:00:50\n",
      "   -- ------------------------------------- 10.2/150.0 MB 2.7 MB/s eta 0:00:52\n",
      "   -- ------------------------------------- 11.0/150.0 MB 2.8 MB/s eta 0:00:51\n",
      "   --- ------------------------------------ 11.8/150.0 MB 2.9 MB/s eta 0:00:49\n",
      "   --- ------------------------------------ 12.8/150.0 MB 3.0 MB/s eta 0:00:47\n",
      "   --- ------------------------------------ 13.9/150.0 MB 3.1 MB/s eta 0:00:45\n",
      "   ---- ----------------------------------- 15.2/150.0 MB 3.2 MB/s eta 0:00:43\n",
      "   ---- ----------------------------------- 16.0/150.0 MB 3.2 MB/s eta 0:00:43\n",
      "   ---- ----------------------------------- 16.8/150.0 MB 3.2 MB/s eta 0:00:42\n",
      "   ---- ----------------------------------- 17.8/150.0 MB 3.3 MB/s eta 0:00:40\n",
      "   ---- ----------------------------------- 18.6/150.0 MB 3.4 MB/s eta 0:00:40\n",
      "   ----- ---------------------------------- 19.7/150.0 MB 3.4 MB/s eta 0:00:39\n",
      "   ----- ---------------------------------- 20.7/150.0 MB 3.5 MB/s eta 0:00:38\n",
      "   ----- ---------------------------------- 22.0/150.0 MB 3.5 MB/s eta 0:00:37\n",
      "   ------ --------------------------------- 22.8/150.0 MB 3.6 MB/s eta 0:00:36\n",
      "   ------ --------------------------------- 23.3/150.0 MB 3.6 MB/s eta 0:00:36\n",
      "   ------ --------------------------------- 23.6/150.0 MB 3.5 MB/s eta 0:00:37\n",
      "   ------ --------------------------------- 24.4/150.0 MB 3.5 MB/s eta 0:00:37\n",
      "   ------ --------------------------------- 25.2/150.0 MB 3.5 MB/s eta 0:00:36\n",
      "   ------ --------------------------------- 26.2/150.0 MB 3.5 MB/s eta 0:00:36\n",
      "   ------- -------------------------------- 27.0/150.0 MB 3.5 MB/s eta 0:00:35\n",
      "   ------- -------------------------------- 27.8/150.0 MB 3.5 MB/s eta 0:00:35\n",
      "   ------- -------------------------------- 28.8/150.0 MB 3.6 MB/s eta 0:00:34\n",
      "   ------- -------------------------------- 29.4/150.0 MB 3.5 MB/s eta 0:00:35\n",
      "   -------- ------------------------------- 30.4/150.0 MB 3.6 MB/s eta 0:00:34\n",
      "   -------- ------------------------------- 31.5/150.0 MB 3.6 MB/s eta 0:00:33\n",
      "   -------- ------------------------------- 32.2/150.0 MB 3.6 MB/s eta 0:00:33\n",
      "   -------- ------------------------------- 33.3/150.0 MB 3.6 MB/s eta 0:00:33\n",
      "   --------- ------------------------------ 34.3/150.0 MB 3.7 MB/s eta 0:00:32\n",
      "   --------- ------------------------------ 35.4/150.0 MB 3.7 MB/s eta 0:00:31\n",
      "   --------- ------------------------------ 36.4/150.0 MB 3.7 MB/s eta 0:00:31\n",
      "   --------- ------------------------------ 37.5/150.0 MB 3.8 MB/s eta 0:00:30\n",
      "   ---------- ----------------------------- 38.3/150.0 MB 3.8 MB/s eta 0:00:30\n",
      "   ---------- ----------------------------- 39.3/150.0 MB 3.8 MB/s eta 0:00:30\n",
      "   ---------- ----------------------------- 40.4/150.0 MB 3.8 MB/s eta 0:00:29\n",
      "   ----------- ---------------------------- 41.4/150.0 MB 3.8 MB/s eta 0:00:29\n",
      "   ----------- ---------------------------- 42.5/150.0 MB 3.9 MB/s eta 0:00:28\n",
      "   ----------- ---------------------------- 43.8/150.0 MB 3.9 MB/s eta 0:00:28\n",
      "   ----------- ---------------------------- 44.6/150.0 MB 3.9 MB/s eta 0:00:27\n",
      "   ------------ --------------------------- 45.9/150.0 MB 3.9 MB/s eta 0:00:27\n",
      "   ------------ --------------------------- 46.9/150.0 MB 4.0 MB/s eta 0:00:26\n",
      "   ------------ --------------------------- 48.2/150.0 MB 4.0 MB/s eta 0:00:26\n",
      "   ------------- -------------------------- 48.8/150.0 MB 4.0 MB/s eta 0:00:26\n",
      "   ------------- -------------------------- 49.8/150.0 MB 4.0 MB/s eta 0:00:26\n",
      "   ------------- -------------------------- 50.6/150.0 MB 4.0 MB/s eta 0:00:25\n",
      "   ------------- -------------------------- 51.6/150.0 MB 4.0 MB/s eta 0:00:25\n",
      "   ------------- -------------------------- 52.4/150.0 MB 4.0 MB/s eta 0:00:25\n",
      "   -------------- ------------------------- 53.2/150.0 MB 4.0 MB/s eta 0:00:25\n",
      "   -------------- ------------------------- 54.0/150.0 MB 4.0 MB/s eta 0:00:24\n",
      "   -------------- ------------------------- 55.1/150.0 MB 4.0 MB/s eta 0:00:24\n",
      "   -------------- ------------------------- 56.1/150.0 MB 4.0 MB/s eta 0:00:24\n",
      "   --------------- ------------------------ 57.1/150.0 MB 4.0 MB/s eta 0:00:23\n",
      "   --------------- ------------------------ 57.7/150.0 MB 4.0 MB/s eta 0:00:23\n",
      "   --------------- ------------------------ 57.9/150.0 MB 4.0 MB/s eta 0:00:23\n",
      "   --------------- ------------------------ 58.7/150.0 MB 4.0 MB/s eta 0:00:23\n",
      "   --------------- ------------------------ 59.5/150.0 MB 4.0 MB/s eta 0:00:23\n",
      "   ---------------- ----------------------- 60.3/150.0 MB 4.0 MB/s eta 0:00:23\n",
      "   ---------------- ----------------------- 61.3/150.0 MB 4.0 MB/s eta 0:00:23\n",
      "   ---------------- ----------------------- 62.4/150.0 MB 4.0 MB/s eta 0:00:22\n",
      "   ---------------- ----------------------- 63.2/150.0 MB 4.0 MB/s eta 0:00:22\n",
      "   ----------------- ---------------------- 64.0/150.0 MB 4.0 MB/s eta 0:00:22\n",
      "   ----------------- ---------------------- 64.7/150.0 MB 4.0 MB/s eta 0:00:22\n",
      "   ----------------- ---------------------- 65.3/150.0 MB 4.0 MB/s eta 0:00:22\n",
      "   ----------------- ---------------------- 65.8/150.0 MB 3.9 MB/s eta 0:00:22\n",
      "   ----------------- ---------------------- 66.1/150.0 MB 3.9 MB/s eta 0:00:22\n",
      "   ----------------- ---------------------- 66.6/150.0 MB 3.9 MB/s eta 0:00:22\n",
      "   ------------------ --------------------- 67.6/150.0 MB 3.9 MB/s eta 0:00:22\n",
      "   ------------------ --------------------- 68.7/150.0 MB 3.9 MB/s eta 0:00:21\n",
      "   ------------------ --------------------- 69.5/150.0 MB 3.9 MB/s eta 0:00:21\n",
      "   ------------------ --------------------- 70.5/150.0 MB 3.9 MB/s eta 0:00:21\n",
      "   ------------------ --------------------- 71.0/150.0 MB 3.9 MB/s eta 0:00:21\n",
      "   ------------------- -------------------- 71.8/150.0 MB 3.9 MB/s eta 0:00:20\n",
      "   ------------------- -------------------- 72.6/150.0 MB 3.9 MB/s eta 0:00:20\n",
      "   ------------------- -------------------- 73.7/150.0 MB 3.9 MB/s eta 0:00:20\n",
      "   ------------------- -------------------- 74.4/150.0 MB 3.9 MB/s eta 0:00:20\n",
      "   -------------------- ------------------- 75.5/150.0 MB 3.9 MB/s eta 0:00:19\n",
      "   -------------------- ------------------- 76.5/150.0 MB 3.9 MB/s eta 0:00:19\n",
      "   -------------------- ------------------- 77.3/150.0 MB 3.9 MB/s eta 0:00:19\n",
      "   -------------------- ------------------- 78.4/150.0 MB 3.9 MB/s eta 0:00:19\n",
      "   --------------------- ------------------ 79.4/150.0 MB 4.0 MB/s eta 0:00:18\n",
      "   --------------------- ------------------ 80.2/150.0 MB 4.0 MB/s eta 0:00:18\n",
      "   --------------------- ------------------ 81.3/150.0 MB 4.0 MB/s eta 0:00:18\n",
      "   ---------------------- ----------------- 82.6/150.0 MB 4.0 MB/s eta 0:00:17\n",
      "   ---------------------- ----------------- 83.1/150.0 MB 4.0 MB/s eta 0:00:17\n",
      "   ---------------------- ----------------- 83.4/150.0 MB 4.0 MB/s eta 0:00:17\n",
      "   ---------------------- ----------------- 83.4/150.0 MB 4.0 MB/s eta 0:00:17\n",
      "   ---------------------- ----------------- 84.1/150.0 MB 3.9 MB/s eta 0:00:17\n",
      "   ---------------------- ----------------- 84.9/150.0 MB 3.9 MB/s eta 0:00:17\n",
      "   ---------------------- ----------------- 85.7/150.0 MB 3.9 MB/s eta 0:00:17\n",
      "   ----------------------- ---------------- 86.8/150.0 MB 3.9 MB/s eta 0:00:17\n",
      "   ----------------------- ---------------- 87.3/150.0 MB 3.9 MB/s eta 0:00:17\n",
      "   ----------------------- ---------------- 87.6/150.0 MB 3.9 MB/s eta 0:00:16\n",
      "   ----------------------- ---------------- 88.1/150.0 MB 3.9 MB/s eta 0:00:16\n",
      "   ----------------------- ---------------- 88.9/150.0 MB 3.9 MB/s eta 0:00:16\n",
      "   ----------------------- ---------------- 89.4/150.0 MB 3.9 MB/s eta 0:00:16\n",
      "   ------------------------ --------------- 90.4/150.0 MB 3.9 MB/s eta 0:00:16\n",
      "   ------------------------ --------------- 90.7/150.0 MB 3.8 MB/s eta 0:00:16\n",
      "   ------------------------ --------------- 91.8/150.0 MB 3.9 MB/s eta 0:00:16\n",
      "   ------------------------ --------------- 93.1/150.0 MB 3.9 MB/s eta 0:00:15\n",
      "   ------------------------- -------------- 93.8/150.0 MB 3.9 MB/s eta 0:00:15\n",
      "   ------------------------- -------------- 94.1/150.0 MB 3.9 MB/s eta 0:00:15\n",
      "   ------------------------- -------------- 95.2/150.0 MB 3.9 MB/s eta 0:00:15\n",
      "   ------------------------- -------------- 95.9/150.0 MB 3.9 MB/s eta 0:00:15\n",
      "   ------------------------- -------------- 97.3/150.0 MB 3.9 MB/s eta 0:00:14\n",
      "   -------------------------- ------------- 98.0/150.0 MB 3.9 MB/s eta 0:00:14\n",
      "   -------------------------- ------------- 99.4/150.0 MB 3.9 MB/s eta 0:00:13\n",
      "   -------------------------- ------------- 100.4/150.0 MB 3.9 MB/s eta 0:00:13\n",
      "   --------------------------- ------------ 101.4/150.0 MB 3.9 MB/s eta 0:00:13\n",
      "   --------------------------- ------------ 102.8/150.0 MB 3.9 MB/s eta 0:00:13\n",
      "   --------------------------- ------------ 103.5/150.0 MB 3.9 MB/s eta 0:00:12\n",
      "   --------------------------- ------------ 104.6/150.0 MB 3.9 MB/s eta 0:00:12\n",
      "   ---------------------------- ----------- 105.9/150.0 MB 3.9 MB/s eta 0:00:12\n",
      "   ---------------------------- ----------- 106.4/150.0 MB 4.0 MB/s eta 0:00:12\n",
      "   ---------------------------- ----------- 107.2/150.0 MB 3.9 MB/s eta 0:00:11\n",
      "   ---------------------------- ----------- 108.3/150.0 MB 3.9 MB/s eta 0:00:11\n",
      "   ----------------------------- ---------- 109.3/150.0 MB 4.0 MB/s eta 0:00:11\n",
      "   ----------------------------- ---------- 110.1/150.0 MB 4.0 MB/s eta 0:00:11\n",
      "   ----------------------------- ---------- 111.1/150.0 MB 4.0 MB/s eta 0:00:10\n",
      "   ----------------------------- ---------- 112.2/150.0 MB 4.0 MB/s eta 0:00:10\n",
      "   ------------------------------ --------- 113.0/150.0 MB 4.0 MB/s eta 0:00:10\n",
      "   ------------------------------ --------- 113.2/150.0 MB 4.0 MB/s eta 0:00:10\n",
      "   ------------------------------ --------- 114.3/150.0 MB 4.0 MB/s eta 0:00:10\n",
      "   ------------------------------ --------- 115.1/150.0 MB 4.0 MB/s eta 0:00:09\n",
      "   ------------------------------ --------- 115.9/150.0 MB 4.0 MB/s eta 0:00:09\n",
      "   ------------------------------- -------- 116.9/150.0 MB 4.0 MB/s eta 0:00:09\n",
      "   ------------------------------- -------- 117.7/150.0 MB 4.0 MB/s eta 0:00:09\n",
      "   ------------------------------- -------- 118.5/150.0 MB 4.0 MB/s eta 0:00:08\n",
      "   ------------------------------- -------- 119.5/150.0 MB 4.0 MB/s eta 0:00:08\n",
      "   -------------------------------- ------- 120.3/150.0 MB 4.0 MB/s eta 0:00:08\n",
      "   -------------------------------- ------- 121.4/150.0 MB 4.0 MB/s eta 0:00:08\n",
      "   -------------------------------- ------- 122.4/150.0 MB 4.0 MB/s eta 0:00:07\n",
      "   -------------------------------- ------- 123.5/150.0 MB 4.1 MB/s eta 0:00:07\n",
      "   --------------------------------- ------ 124.5/150.0 MB 4.1 MB/s eta 0:00:07\n",
      "   --------------------------------- ------ 125.3/150.0 MB 4.1 MB/s eta 0:00:07\n",
      "   --------------------------------- ------ 126.1/150.0 MB 4.1 MB/s eta 0:00:06\n",
      "   --------------------------------- ------ 127.1/150.0 MB 4.1 MB/s eta 0:00:06\n",
      "   ---------------------------------- ----- 128.2/150.0 MB 4.1 MB/s eta 0:00:06\n",
      "   ---------------------------------- ----- 129.2/150.0 MB 4.1 MB/s eta 0:00:06\n",
      "   ---------------------------------- ----- 130.0/150.0 MB 4.1 MB/s eta 0:00:05\n",
      "   ---------------------------------- ----- 131.1/150.0 MB 4.1 MB/s eta 0:00:05\n",
      "   ----------------------------------- ---- 131.9/150.0 MB 4.2 MB/s eta 0:00:05\n",
      "   ----------------------------------- ---- 132.1/150.0 MB 4.1 MB/s eta 0:00:05\n",
      "   ----------------------------------- ---- 132.9/150.0 MB 4.1 MB/s eta 0:00:05\n",
      "   ----------------------------------- ---- 133.7/150.0 MB 4.1 MB/s eta 0:00:04\n",
      "   ----------------------------------- ---- 134.5/150.0 MB 4.1 MB/s eta 0:00:04\n",
      "   ------------------------------------ --- 135.5/150.0 MB 4.2 MB/s eta 0:00:04\n",
      "   ------------------------------------ --- 136.3/150.0 MB 4.2 MB/s eta 0:00:04\n",
      "   ------------------------------------ --- 137.4/150.0 MB 4.2 MB/s eta 0:00:04\n",
      "   ------------------------------------ --- 138.4/150.0 MB 4.2 MB/s eta 0:00:03\n",
      "   ------------------------------------- -- 139.2/150.0 MB 4.1 MB/s eta 0:00:03\n",
      "   ------------------------------------- -- 139.7/150.0 MB 4.1 MB/s eta 0:00:03\n",
      "   ------------------------------------- -- 140.5/150.0 MB 4.1 MB/s eta 0:00:03\n",
      "   ------------------------------------- -- 141.6/150.0 MB 4.1 MB/s eta 0:00:03\n",
      "   ------------------------------------- -- 142.3/150.0 MB 4.1 MB/s eta 0:00:02\n",
      "   -------------------------------------- - 143.4/150.0 MB 4.1 MB/s eta 0:00:02\n",
      "   -------------------------------------- - 144.4/150.0 MB 4.1 MB/s eta 0:00:02\n",
      "   -------------------------------------- - 145.2/150.0 MB 4.1 MB/s eta 0:00:02\n",
      "   ---------------------------------------  146.3/150.0 MB 4.1 MB/s eta 0:00:01\n",
      "   ---------------------------------------  147.3/150.0 MB 4.1 MB/s eta 0:00:01\n",
      "   ---------------------------------------  148.4/150.0 MB 4.2 MB/s eta 0:00:01\n",
      "   ---------------------------------------  149.4/150.0 MB 4.2 MB/s eta 0:00:01\n",
      "   ---------------------------------------  149.9/150.0 MB 4.2 MB/s eta 0:00:01\n",
      "   ---------------------------------------  149.9/150.0 MB 4.2 MB/s eta 0:00:01\n",
      "   ---------------------------------------- 150.0/150.0 MB 4.1 MB/s eta 0:00:00\n",
      "Installing collected packages: xgboost\n",
      "Successfully installed xgboost-3.0.0\n"
     ]
    },
    {
     "name": "stderr",
     "output_type": "stream",
     "text": [
      "\n",
      "[notice] A new release of pip is available: 25.0 -> 25.0.1\n",
      "[notice] To update, run: python.exe -m pip install --upgrade pip\n"
     ]
    }
   ],
   "source": [
    "!pip install pmdarima\n",
    "!pip install yfinance\n",
    "!pip install xgboost\n"
   ]
  },
  {
   "cell_type": "code",
   "execution_count": 9,
   "metadata": {},
   "outputs": [],
   "source": [
    "import yfinance as yf\n",
    "import pandas as pd\n",
    "import numpy as np\n",
    "import matplotlib.pyplot as plt\n",
    "\n",
    "from sklearn.preprocessing import MinMaxScaler\n",
    "from sklearn.metrics import mean_squared_error\n",
    "from sklearn.model_selection import train_test_split\n",
    "\n",
    "from tensorflow.keras.models import Sequential\n",
    "from tensorflow.keras.layers import LSTM, Dense\n",
    "import xgboost as xgb\n",
    "\n",
    "import warnings\n",
    "warnings.filterwarnings(\"ignore\")"
   ]
  },
  {
   "cell_type": "code",
   "execution_count": 13,
   "metadata": {},
   "outputs": [],
   "source": [
    "# Define stock list (same as used in RL notebook)\n",
    "stock_list = ['AAPL', 'MSFT', 'GOOG']  # Add more if needed\n",
    "\n",
    "# Set date range\n",
    "date_start = \"2015-01-01\"\n",
    "date_end = \"2020-12-31\"\n",
    "\n",
    "# Results dict\n",
    "results = {\n",
    "    \"Stock\": [],\n",
    "    \"LSTM_RMSE\": [],\n",
    "    \"XGBoost_RMSE\": []\n",
    "}\n",
    "\n",
    "# LSTM configuration\n",
    "window_size = 60\n",
    "epochs = 10\n",
    "batch_size = 16"
   ]
  },
  {
   "cell_type": "code",
   "execution_count": 15,
   "metadata": {},
   "outputs": [
    {
     "name": "stderr",
     "output_type": "stream",
     "text": [
      "[*********************100%***********************]  1 of 1 completed"
     ]
    },
    {
     "name": "stdout",
     "output_type": "stream",
     "text": [
      "\n",
      "Processing AAPL...\n"
     ]
    },
    {
     "name": "stderr",
     "output_type": "stream",
     "text": [
      "\n"
     ]
    },
    {
     "name": "stdout",
     "output_type": "stream",
     "text": [
      "\u001b[1m10/10\u001b[0m \u001b[32m━━━━━━━━━━━━━━━━━━━━\u001b[0m\u001b[37m\u001b[0m \u001b[1m0s\u001b[0m 24ms/step\n",
      "LSTM RMSE: 6.95, XGBoost RMSE: 38.06\n",
      "\n",
      "Processing MSFT...\n"
     ]
    },
    {
     "name": "stderr",
     "output_type": "stream",
     "text": [
      "[*********************100%***********************]  1 of 1 completed\n"
     ]
    },
    {
     "name": "stdout",
     "output_type": "stream",
     "text": [
      "\u001b[1m10/10\u001b[0m \u001b[32m━━━━━━━━━━━━━━━━━━━━\u001b[0m\u001b[37m\u001b[0m \u001b[1m0s\u001b[0m 21ms/step\n",
      "LSTM RMSE: 13.47, XGBoost RMSE: 54.80\n",
      "\n",
      "Processing GOOG...\n"
     ]
    },
    {
     "name": "stderr",
     "output_type": "stream",
     "text": [
      "[*********************100%***********************]  1 of 1 completed\n"
     ]
    },
    {
     "name": "stdout",
     "output_type": "stream",
     "text": [
      "\u001b[1m10/10\u001b[0m \u001b[32m━━━━━━━━━━━━━━━━━━━━\u001b[0m\u001b[37m\u001b[0m \u001b[1m0s\u001b[0m 21ms/step\n",
      "LSTM RMSE: 3.95, XGBoost RMSE: 15.49\n"
     ]
    }
   ],
   "source": [
    "for stock in stock_list:\n",
    "    print(f\"\\nProcessing {stock}...\")\n",
    "\n",
    "    # Download data\n",
    "    df = yf.download(stock, start=date_start, end=date_end)\n",
    "    df = df[[\"Close\"]].dropna()\n",
    "\n",
    "    # Split train/test\n",
    "    split = int(len(df) * 0.8)\n",
    "    train_data = df[:split]\n",
    "    test_data = df[split:]\n",
    "\n",
    "    # Normalize for LSTM\n",
    "    scaler = MinMaxScaler()\n",
    "    scaled_train = scaler.fit_transform(train_data)\n",
    "    scaled_all = scaler.transform(df)\n",
    "\n",
    "    # Prepare LSTM sequences\n",
    "    X_train, y_train = [], []\n",
    "    for i in range(window_size, len(scaled_train)):\n",
    "        X_train.append(scaled_train[i-window_size:i, 0])\n",
    "        y_train.append(scaled_train[i, 0])\n",
    "    X_train, y_train = np.array(X_train), np.array(y_train)\n",
    "    X_train = np.reshape(X_train, (X_train.shape[0], X_train.shape[1], 1))\n",
    "\n",
    "    # Build LSTM model\n",
    "    model = Sequential()\n",
    "    model.add(LSTM(50, return_sequences=False, input_shape=(window_size, 1)))\n",
    "    model.add(Dense(1))\n",
    "    model.compile(optimizer='adam', loss='mean_squared_error')\n",
    "    model.fit(X_train, y_train, epochs=epochs, batch_size=batch_size, verbose=0)\n",
    "\n",
    "    # Prepare test input\n",
    "    inputs = scaled_all[len(scaled_all) - len(test_data) - window_size:]\n",
    "    X_test = []\n",
    "    for i in range(window_size, len(inputs)):\n",
    "        X_test.append(inputs[i-window_size:i, 0])\n",
    "    X_test = np.array(X_test)\n",
    "    X_test = np.reshape(X_test, (X_test.shape[0], X_test.shape[1], 1))\n",
    "\n",
    "    # Predict and inverse scale\n",
    "    predicted_scaled = model.predict(X_test)\n",
    "    predicted = scaler.inverse_transform(predicted_scaled)\n",
    "    real = test_data[\"Close\"].values\n",
    "\n",
    "\n",
    "    lstm_rmse = np.sqrt(mean_squared_error(real, predicted))\n",
    "\n",
    "    # === XGBoost ===\n",
    "    xgb_df = df.copy()\n",
    "    xgb_df['Target'] = xgb_df['Close'].shift(-1)\n",
    "    xgb_df.dropna(inplace=True)\n",
    "\n",
    "    for lag in range(1, 6):\n",
    "        xgb_df[f\"Lag_{lag}\"] = xgb_df[\"Close\"].shift(lag)\n",
    "    xgb_df.dropna(inplace=True)\n",
    "\n",
    "    X = xgb_df[[f\"Lag_{lag}\" for lag in range(1, 6)]]\n",
    "    y = xgb_df[\"Target\"]\n",
    "\n",
    "    X_train_xgb, X_test_xgb, y_train_xgb, y_test_xgb = train_test_split(X, y, shuffle=False, test_size=0.2)\n",
    "    model_xgb = xgb.XGBRegressor(n_estimators=100, max_depth=3, learning_rate=0.1, objective='reg:squarederror')\n",
    "    model_xgb.fit(X_train_xgb, y_train_xgb)\n",
    "    xgb_pred = model_xgb.predict(X_test_xgb)\n",
    "    xgb_rmse = np.sqrt(mean_squared_error(y_test_xgb, xgb_pred))\n",
    "\n",
    "    # Store results\n",
    "    results[\"Stock\"].append(stock)\n",
    "    results[\"LSTM_RMSE\"].append(round(lstm_rmse, 2))\n",
    "    results[\"XGBoost_RMSE\"].append(round(xgb_rmse, 2))\n",
    "\n",
    "    print(f\"LSTM RMSE: {lstm_rmse:.2f}, XGBoost RMSE: {xgb_rmse:.2f}\")\n"
   ]
  },
  {
   "cell_type": "code",
   "execution_count": 16,
   "metadata": {},
   "outputs": [
    {
     "name": "stdout",
     "output_type": "stream",
     "text": [
      "\n",
      "Final RMSE Comparison:\n",
      "  Stock  LSTM_RMSE  XGBoost_RMSE\n",
      "0  AAPL       6.95         38.06\n",
      "1  MSFT      13.47         54.80\n",
      "2  GOOG       3.95         15.49\n"
     ]
    }
   ],
   "source": [
    "# Display final table\n",
    "results_df = pd.DataFrame(results)\n",
    "print(\"\\nFinal RMSE Comparison:\")\n",
    "print(results_df)"
   ]
  },
  {
   "cell_type": "code",
   "execution_count": 17,
   "metadata": {},
   "outputs": [
    {
     "name": "stderr",
     "output_type": "stream",
     "text": [
      "[*********************100%***********************]  1 of 1 completed\n"
     ]
    },
    {
     "data": {
      "image/png": "[encoded data removed]",
      "text/plain": [
       "<Figure size 1000x400 with 1 Axes>"
      ]
     },
     "metadata": {},
     "output_type": "display_data"
    }
   ],
   "source": [
    "\n",
    "# Plotting example for first stock\n",
    "example_stock = stock_list[0]\n",
    "df_plot = yf.download(example_stock, start=date_start, end=date_end)[[\"Close\"]]\n",
    "plt.figure(figsize=(10, 4))\n",
    "plt.plot(df_plot[\"Close\"], label=\"Actual Price\")\n",
    "plt.title(f\"{example_stock} - Actual Prices\")\n",
    "plt.xlabel(\"Date\")\n",
    "plt.ylabel(\"Price\")\n",
    "plt.legend()\n",
    "plt.tight_layout()\n",
    "plt.show()\n"
   ]
  },
  {
   "cell_type": "code",
   "execution_count": null,
   "metadata": {},
   "outputs": [],
   "source": []
  }
 ],
 "metadata": {
  "kernelspec": {
   "display_name": "gpu_env",
   "language": "python",
   "name": "python3"
  },
  "language_info": {
   "codemirror_mode": {
    "name": "ipython",
    "version": 3
   },
   "file_extension": ".py",
   "mimetype": "text/x-python",
   "name": "python",
   "nbconvert_exporter": "python",
   "pygments_lexer": "ipython3",
   "version": "3.12.3"
  }
 },
 "nbformat": 4,
 "nbformat_minor": 2
}
